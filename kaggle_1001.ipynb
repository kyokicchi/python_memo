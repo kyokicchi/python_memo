{
 "cells": [
  {
   "cell_type": "markdown",
   "metadata": {
    "_uuid": "ca4229fe862fda4add8565cbec708d611c516b14"
   },
   "source": [
    "### Ref: Kernels\n",
    "\n",
    "https://www.kaggle.com/julian3833/1-quick-start-read-csv-and-flatten-json-fields\n",
    "\n",
    "https://www.kaggle.com/artgor/nn-baseline\n",
    "\n",
    "https://www.kaggle.com/ogrellier/user-level-lightgbm-lb-1-4480"
   ]
  },
  {
   "cell_type": "code",
   "execution_count": null,
   "metadata": {
    "_cell_guid": "b1076dfc-b9ad-4769-8c92-a6c4dae69d19",
    "_uuid": "8f2839f25d086af736a60e9eeb907d3b93b6e0e5",
    "collapsed": true
   },
   "outputs": [],
   "source": [
    "import os\n",
    "import json\n",
    "import numpy as np\n",
    "import pandas as pd\n",
    "from pandas.io.json import json_normalize\n",
    "from sklearn.preprocessing import LabelEncoder"
   ]
  },
  {
   "cell_type": "code",
   "execution_count": null,
   "metadata": {
    "_cell_guid": "79c7e3d0-c299-4dcb-8224-4455121ee9b0",
    "_uuid": "d629ff2d2480ee46fbb7e2d37f6b5fab8052498a"
   },
   "outputs": [],
   "source": [
    "print(os.listdir(\"../input\"))\n"
   ]
  },
  {
   "cell_type": "code",
   "execution_count": null,
   "metadata": {
    "_uuid": "4a23799ac3b6e7d5b1eb451ba69ab6d2fa74b585",
    "collapsed": true
   },
   "outputs": [],
   "source": [
    "def load_df(csv_path, nrows=None):\n",
    "    JSON_COLUMNS = ['device', 'geoNetwork', 'totals', 'trafficSource']\n",
    "    \n",
    "    df = pd.read_csv(csv_path, \n",
    "                     converters={column: json.loads for column in JSON_COLUMNS}, \n",
    "                     dtype={'fullVisitorId': 'str'}, \n",
    "                     nrows=nrows)\n",
    "    \n",
    "    for column in JSON_COLUMNS:\n",
    "        column_as_df = json_normalize(df[column])\n",
    "        column_as_df.columns = [f\"{column}.{subcolumn}\" for subcolumn in column_as_df.columns]\n",
    "        df = df.drop(column, axis=1).merge(column_as_df, right_index=True, left_index=True)\n",
    "    print(f\"Loaded {os.path.basename(csv_path)}. Shape: {df.shape}\")\n",
    "    return df"
   ]
  },
  {
   "cell_type": "code",
   "execution_count": null,
   "metadata": {
    "_uuid": "a9f9fce9f30e29128f38851a2023569677d88cf3",
    "collapsed": true
   },
   "outputs": [],
   "source": [
    "%%time\n",
    "df_train_raw = load_df('../input/train.csv')"
   ]
  },
  {
   "cell_type": "code",
   "execution_count": null,
   "metadata": {
    "_uuid": "7608428d61f7f89a75886136203e81cc28e3ad99",
    "collapsed": true
   },
   "outputs": [],
   "source": [
    "%%time\n",
    "df_test_raw = load_df('../input/test.csv')"
   ]
  },
  {
   "cell_type": "markdown",
   "metadata": {
    "_uuid": "6f6856cc7ba3534d5a5b2e3579e1f82533bc62a8"
   },
   "source": [
    "###  keep _raw for resuming point"
   ]
  },
  {
   "cell_type": "code",
   "execution_count": null,
   "metadata": {
    "_uuid": "9f89c6f20e21768c3d302e232a6339de35cff933",
    "collapsed": true
   },
   "outputs": [],
   "source": [
    "%%time\n",
    "df_train = df_train_raw.copy()"
   ]
  },
  {
   "cell_type": "code",
   "execution_count": null,
   "metadata": {
    "_uuid": "b7e46ca15cbb10f4691d34fe808935a8097fab49",
    "collapsed": true
   },
   "outputs": [],
   "source": [
    "%%time\n",
    "df_test = df_test_raw.copy()"
   ]
  },
  {
   "cell_type": "markdown",
   "metadata": {
    "_uuid": "630c9e566ecd7d55591dbf5279a48079e960b97b"
   },
   "source": [
    "### apply adjustments to both train and test datasets"
   ]
  },
  {
   "cell_type": "code",
   "execution_count": null,
   "metadata": {
    "_uuid": "53bcba9f20016db4621328051eddeb50b9b35715",
    "collapsed": true,
    "scrolled": true
   },
   "outputs": [],
   "source": [
    "def applyEdits(df):\n",
    "    # fill NA's\n",
    "    df['trafficSource.adwordsClickInfo.isVideoAd'].fillna(True, inplace=True)\n",
    "    df['trafficSource.isTrueDirect'].fillna(False, inplace=True)\n",
    "\n",
    "    l_fillwithzero = ['totals.bounces','totals.newVisits','totals.pageviews',\n",
    "    'trafficSource.adContent','trafficSource.keyword','trafficSource.adwordsClickInfo.adNetworkType',\n",
    "    'trafficSource.adwordsClickInfo.adNetworkType','trafficSource.adwordsClickInfo.gclId',\n",
    "    'trafficSource.adwordsClickInfo.gclId','trafficSource.adwordsClickInfo.page',\n",
    "    'trafficSource.adwordsClickInfo.slot']\n",
    "    for x in l_fillwithzero:\n",
    "        df[x] = df[x].fillna(0)\n",
    "\n",
    "    # add / edit columns\n",
    "    df['browser_category'] = df['device.browser'] + '_' + df['device.deviceCategory']\n",
    "    df['browser_operatingSystem'] = df['device.browser'] + '_' + df['device.operatingSystem']\n",
    "    df['source_country'] = df['trafficSource.source'] + '_' + df['geoNetwork.country']                                                                   \n",
    "\n",
    "    \n",
    "    df['dummy'] = 1\n",
    "    df['user_cumcnt_per_day'] = (df[['fullVisitorId','date', 'dummy']].groupby(['fullVisitorId','date'])['dummy'].cumcount()+1)\n",
    "    df['user_sum_per_day'] = df[['fullVisitorId','date', 'dummy']].groupby(['fullVisitorId','date'])['dummy'].transform(sum)\n",
    "    df['user_cumcnt_sum_ratio_per_day'] = df['user_cumcnt_per_day'] / df['user_sum_per_day'] \n",
    "    df.drop('dummy', axis=1, inplace=True)\n",
    "\n",
    "    return df"
   ]
  },
  {
   "cell_type": "code",
   "execution_count": null,
   "metadata": {
    "_uuid": "ad1f38ff60765f4891de78efa0d02b3f12242922",
    "collapsed": true
   },
   "outputs": [],
   "source": [
    "%%time\n",
    "df_train = applyEdits(df_train)"
   ]
  },
  {
   "cell_type": "code",
   "execution_count": null,
   "metadata": {
    "_uuid": "31fd2f16d0372731a73af3498f3b2917fc850905",
    "collapsed": true
   },
   "outputs": [],
   "source": [
    "%%time\n",
    "df_test = applyEdits(df_test)"
   ]
  },
  {
   "cell_type": "markdown",
   "metadata": {
    "_uuid": "073dad5a0d127383ed96406b2b2a6de70cd10272"
   },
   "source": [
    "### apply only for train dataset"
   ]
  },
  {
   "cell_type": "code",
   "execution_count": null,
   "metadata": {
    "_uuid": "337145bd03ef1d0bcfadb9ec4b5dbc54b4202b34",
    "collapsed": true
   },
   "outputs": [],
   "source": [
    "# to float and log\n",
    "df_train['totals.transactionRevenue'] = df_train['totals.transactionRevenue'].astype(float)\n",
    "df_train['totals.transactionRevenue'] = np.log1p(df_train['totals.transactionRevenue'].fillna(0))"
   ]
  },
  {
   "cell_type": "markdown",
   "metadata": {
    "_uuid": "d4da91392ec96a69d73e7ae28609e340cd4f789a"
   },
   "source": [
    "### delete columns with no valid info"
   ]
  },
  {
   "cell_type": "code",
   "execution_count": null,
   "metadata": {
    "_uuid": "1516939f84f16334f6079c27d24859f55ab533f8",
    "collapsed": true,
    "scrolled": true
   },
   "outputs": [],
   "source": [
    "%%time\n",
    "cols_to_drop = [col for col in df_train.columns if df_train[col].nunique() == 1]\n",
    "df_train.drop(cols_to_drop, axis=1, inplace=True)\n",
    "df_test.drop([col for col in cols_to_drop if col in df_test.columns], axis=1, inplace=True)\n"
   ]
  },
  {
   "cell_type": "markdown",
   "metadata": {
    "_uuid": "cb8c8e6794f0ad696f5a2b11631cab28ab83f331"
   },
   "source": [
    "### clean up date column"
   ]
  },
  {
   "cell_type": "code",
   "execution_count": null,
   "metadata": {
    "_uuid": "6580c7d72d28c2ce176211f1499c58e24ece78f1",
    "collapsed": true
   },
   "outputs": [],
   "source": [
    "def cleanDate(df):\n",
    "    df['date'] = pd.to_datetime(df['date'].apply(lambda x: str(x)[:4] + '-' + str(x)[4:6] + '-' + str(x)[6:]))\n",
    "    return df\n",
    "\n",
    "\n",
    "df_train = cleanDate(df_train)\n",
    "df_test = cleanDate(df_test)"
   ]
  },
  {
   "cell_type": "code",
   "execution_count": null,
   "metadata": {
    "_uuid": "53d2e3871bcf481148ef9e9b7617134acf0d0bc5",
    "collapsed": true,
    "scrolled": true
   },
   "outputs": [],
   "source": [
    "%%time\n",
    "\n",
    "def parseDates(df):\n",
    "    df['date'] = pd.to_datetime(df['date'])\n",
    "    df['month'] = df['date'].dt.month\n",
    "    df['day'] = df['date'].dt.day\n",
    "    df['weekday'] = df['date'].dt.weekday\n",
    "    df['weekofyear'] = df['date'].dt.weekofyear\n",
    "    \n",
    "    return df\n",
    "\n",
    "\n",
    "df_train = parseDates(df_train)\n",
    "df_test = parseDates(df_test)\n"
   ]
  },
  {
   "cell_type": "code",
   "execution_count": null,
   "metadata": {
    "_uuid": "6cfabd4cc7cf70d27b41e4a7489e5f63e066afdc",
    "collapsed": true,
    "scrolled": true
   },
   "outputs": [],
   "source": [
    "%%time\n",
    "def strToNum(df):\n",
    "    l = [ 'totals.bounces', 'totals.hits', 'totals.newVisits', 'totals.pageviews',]\n",
    "    for x in l:\n",
    "        df[x] = df[x].values.astype(np.int64)\n",
    "    return df\n",
    "\n",
    "df_train = strToNum(df_train)\n",
    "df_test = strToNum(df_test)"
   ]
  },
  {
   "cell_type": "code",
   "execution_count": null,
   "metadata": {
    "_uuid": "ae3e561aa4b02f0c0f5585ecbf7e39d163605930",
    "collapsed": true
   },
   "outputs": [],
   "source": [
    "no_use = ['date', 'fullVisitorId', 'sessionId', 'visitId', 'visitStartTime', 'totals.transactionRevenue', 'trafficSource.referralPath']\n",
    "\n",
    "cat_cols = [x for x in df_train.columns if x not in no_use and type(df_train[x][0]) == str]\n",
    "\n",
    "num_cols = [x for x in df_train.columns if x not in no_use and x not in cat_cols and type(df_train[x][0]) != str and type(df_train[x][0]) != bool]\n"
   ]
  },
  {
   "cell_type": "markdown",
   "metadata": {
    "_uuid": "bdbd6c3e8a8df46b78226fcff9da11d96a674cee"
   },
   "source": [
    "### Encode category strings to number labels ** use same number for same category accross train & test datasets"
   ]
  },
  {
   "cell_type": "code",
   "execution_count": null,
   "metadata": {
    "_uuid": "d6cd5e1e18c145710c592cb5f8b6c22f34fe2b5f",
    "collapsed": true
   },
   "outputs": [],
   "source": [
    "%%time\n",
    "max_values = {}\n",
    "for col in cat_cols:\n",
    "    lbl = LabelEncoder()\n",
    "    lbl.fit(list(df_train[col].values.astype('str')) + list(df_test[col].values.astype('str')))\n",
    "    df_train[col] = lbl.transform(list(df_train[col].values.astype('str')))\n",
    "    df_test[col] = lbl.transform(list(df_test[col].values.astype('str')))\n",
    "    max_values[col] = max(df_train[col].max(), df_test[col].max())  + 2\n"
   ]
  },
  {
   "cell_type": "code",
   "execution_count": null,
   "metadata": {
    "_uuid": "13ca8e09f32d5e051a5406ac852079148e896635",
    "collapsed": true
   },
   "outputs": [],
   "source": [
    "%%time\n",
    "def boolToNum(df):\n",
    "    l = ['trafficSource.adwordsClickInfo.isVideoAd', 'trafficSource.isTrueDirect' ]\n",
    "    for x in l:\n",
    "        df[x] = df[x].values.astype(np.int64) * 1\n",
    "    return df\n",
    "df_train = boolToNum(df_train)\n",
    "df_test = boolToNum(df_test)"
   ]
  },
  {
   "cell_type": "code",
   "execution_count": null,
   "metadata": {
    "_uuid": "0305f0074352d417949ca43f24a515e1f9e96689",
    "collapsed": true
   },
   "outputs": [],
   "source": [
    "df_train.drop('trafficSource.referralPath', axis=1, inplace=True)\n",
    "df_test.drop('trafficSource.referralPath', axis=1, inplace=True)\n"
   ]
  },
  {
   "cell_type": "markdown",
   "metadata": {
    "_uuid": "3a9a5f3f1450f7ba4533958145c5d3ec4352167a"
   },
   "source": [
    "## -------------------------------------------------------------for reseting ---------------------------------------------------------------"
   ]
  },
  {
   "cell_type": "code",
   "execution_count": null,
   "metadata": {
    "_uuid": "17c522deb0407c9fd89ae50f6e009cf86cfaea9e",
    "collapsed": true
   },
   "outputs": [],
   "source": [
    "%%time\n",
    "#export\n",
    "df_train.to_csv('train_wip.csv')\n",
    "df_test.to_csv('test_wip.csv')\n",
    "\n",
    "#save\n",
    "#df_train_forReset = df_train.copy()\n",
    "#df_test_forReset = df_test.copy()\n",
    "\n",
    "#load\n",
    "#df_train = df_train_forReset.copy()\n",
    "#df_test = df_test_forReset.copy()\n"
   ]
  },
  {
   "cell_type": "code",
   "execution_count": null,
   "metadata": {
    "_uuid": "e9f9ddbd777446eabff7364859c1782aeb43737c",
    "collapsed": true
   },
   "outputs": [],
   "source": [
    "\n",
    "def aggregate_by_users(df, cat_cols):\n",
    "    aggs = {\n",
    "        'date': ['min', 'max'],\n",
    "        'totals.transactionRevenue': ['sum', 'size'],\n",
    "        'totals.hits': ['sum', 'min', 'max', 'mean', 'median'],\n",
    "        'totals.pageviews': ['sum', 'min', 'max', 'mean', 'median'],\n",
    "        'totals.bounces': ['sum', 'mean', 'median'],\n",
    "        'totals.newVisits': ['sum', 'mean', 'median']\n",
    "    }\n",
    "\n",
    "    for f in cat_cols + ['weekday', 'day', 'month', 'weekofyear']:\n",
    "        aggs[f] = ['min', 'max', 'mean', 'median', 'var', 'std']\n",
    "\n",
    "    users = df.groupby('fullVisitorId').agg(aggs)\n",
    "\n",
    "    new_columns = [\n",
    "        k + '_' + agg for k in aggs.keys() for agg in aggs[k]\n",
    "    ]\n",
    "    users.columns = new_columns\n",
    "\n",
    "    users['date_diff'] = (users.date_max - users.date_min).astype(np.int64) // (24 * 3600 * 1e9)\n",
    "    \n",
    "    return users"
   ]
  },
  {
   "cell_type": "code",
   "execution_count": null,
   "metadata": {
    "_uuid": "02cd97d01427fd0b675ec504e14328b0007eac6a",
    "collapsed": true,
    "scrolled": false
   },
   "outputs": [],
   "source": [
    "%%time\n",
    "df_user_train = aggregate_by_users(df_train, cat_cols)\n",
    "\n",
    "df_test['totals.transactionRevenue'] = 0\n",
    "df_user_test = aggregate_by_users(df_test, cat_cols)\n",
    "\n"
   ]
  },
  {
   "cell_type": "markdown",
   "metadata": {
    "_uuid": "b600ab521a1d3a3d2c5da223d4b971e296214964"
   },
   "source": [
    "## save aggregated csv"
   ]
  },
  {
   "cell_type": "code",
   "execution_count": null,
   "metadata": {
    "_uuid": "f6c223de3db355f02a9d27a80199dba7952ce7fe",
    "collapsed": true,
    "scrolled": true
   },
   "outputs": [],
   "source": [
    "%%time\n",
    "#export\n",
    "df_user_train.to_csv('user_train_wip.csv')\n",
    "df_user_test.to_csv('user_test_wip.csv')"
   ]
  },
  {
   "cell_type": "markdown",
   "metadata": {
    "_uuid": "630f2535dfc51f3746eb80cbe6f7aa1b81c84c0f"
   },
   "source": [
    "## Load saved CSV"
   ]
  },
  {
   "cell_type": "code",
   "execution_count": null,
   "metadata": {
    "_uuid": "4d4e1b3806cfeed4d8ad2cf60db2f9bc69d44feb"
   },
   "outputs": [],
   "source": [
    "%%time\n",
    "\n",
    "df_user_train = pd.read_csv('../input/trying-google-analytics-competition/user_train_wip.csv')\n",
    "df_user_test = pd.read_csv('../input/trying-google-analytics-competition/user_test_wip.csv')"
   ]
  },
  {
   "cell_type": "markdown",
   "metadata": {
    "_uuid": "c1d79a9a784c63d23b72ac58c7b7478cad3267c1"
   },
   "source": [
    "## model"
   ]
  },
  {
   "cell_type": "code",
   "execution_count": null,
   "metadata": {
    "_uuid": "bb1727974a29a6ca748fdf1f0f5b9937d6b6ba55"
   },
   "outputs": [],
   "source": [
    "%%time\n",
    "\n",
    "df_y = df_user_train['totals.transactionRevenue_sum']\n",
    "df_x = df_user_train.drop(['date_min', 'date_max', 'totals.transactionRevenue_sum'], axis=1)\n",
    "df_tgt = df_user_test.drop(['date_min', 'date_max', 'totals.transactionRevenue_sum'], axis=1)\n"
   ]
  },
  {
   "cell_type": "markdown",
   "metadata": {
    "_uuid": "0f67b482db923fdce397a6c150b05496eff7f0f5"
   },
   "source": [
    "\n",
    "# ------------------------ work in progress --------------------"
   ]
  },
  {
   "cell_type": "code",
   "execution_count": null,
   "metadata": {
    "_uuid": "c9bbcf3033c47309a2fa0b614d1b9ee8c043b039"
   },
   "outputs": [],
   "source": [
    "%%time\n",
    "import lightgbm as lgb\n",
    "from sklearn.model_selection import KFold\n",
    "\n",
    "folds = KFold(n_splits=5, shuffle=True, random_state=1)\n",
    "\n",
    "pred_tgt = np.zeros(df_tgt.shape[0])\n",
    "pred_train = np.zeros(df_x.shape[0])\n",
    "l_scores = []\n",
    "\n",
    "lgb_params = {\n",
    "    'learning_rate': 0.03,\n",
    "    'n_estimators': 2000,\n",
    "    'num_leaves': 128,\n",
    "    'subsample': 0.2217,\n",
    "    'colsample_bytree': 0.6810,\n",
    "    'min_split_gain': np.power(10.0, -4.9380),\n",
    "    'reg_alpha': np.power(10.0, -3.2454),\n",
    "    'reg_lambda': np.power(10.0, -4.8571),\n",
    "    'min_child_weight': np.power(10.0, 2),\n",
    "    'silent': True\n",
    "}\n",
    "\n",
    "for i_fold, (i_trainset, i_testset) in enumerate(folds.split(df_x)):\n",
    "    model = lgb.LGBMRegressor(**lgb_params)\n",
    "\n",
    "    model.fit(\n",
    "        df_x.iloc[i_trainset], df_y.iloc[i_trainset],\n",
    "        evalset=[(df_x.iloc[i_trainset], df_y.iloc[i_trainset]), (df_x.iloc[i_testset], df_y.iloc[i_testset])],\n",
    "        evalmetric='rmse',\n",
    "        early_stopping_rounds=100,\n",
    "        verbose=0\n",
    "    )\n",
    "    \n",
    "    oof_preds[i_testset] = model.predict(df_x.iloc[i_testset])\n",
    "\n",
    "    print('Fold %d RMSE (raw output) : %.5f' % (i_fold + 1, rmse(df_y.iloc[i_testset], oof_preds[i_testset])))\n",
    "    pred_train[pred_train < 0] = 0\n",
    "    c_scores.append(rmse(df_y.iloc[i_testset], pred_train[i_testset]))\n",
    "    print('Fold %d RMSE : %.5f' % (i_fold + 1, l_scores[-1]))\n",
    "\n",
    "    pred_target_tmp = model.predict(df_tgt)\n",
    "    pred_target_tmp[pred_target_tmp < 0] = 0\n",
    "    pred_tgt += pred_target_tmp / folds.n_splits\n",
    "\n",
    "print('Full OOF RMSE (zero clipped): %.5f +/- %.5f' % (rmse(df_y, pred_train), float(np.std(l_scores))))"
   ]
  },
  {
   "cell_type": "code",
   "execution_count": null,
   "metadata": {
    "_uuid": "c9bbcf3033c47309a2fa0b614d1b9ee8c043b039",
    "collapsed": true
   },
   "outputs": [],
   "source": [
    "%%time\n",
    "df_tgt['PredictedLogRevenue'] = pred_tgt\n",
    "df_tgt[['PredictedLogRevenue']].to_csv(\"output.csv\", index=True)\n",
    "\n",
    "print('Submission data shape : {}'.format(sub_users[['PredictedLogRevenue']].shape))"
   ]
  },
  {
   "cell_type": "code",
   "execution_count": null,
   "metadata": {
    "_uuid": "c9bbcf3033c47309a2fa0b614d1b9ee8c043b039",
    "collapsed": true
   },
   "outputs": [],
   "source": [
    "hist, bin_edges = np.histogram(np.hstack((pred_train, pred_tgt)), bins=25)\n",
    "plt.figure(figsize=(12, 7))\n",
    "plt.title('Distributions of OOF and TEST predictions', fontsize=15, fontweight='bold')\n",
    "plt.hist(pred_train, label='OOF predictions', alpha=.6, bins=bin_edges, density=True, log=True)\n",
    "plt.hist(pred_tgt, label='TEST predictions', alpha=.6, bins=bin_edges, density=True, log=True)\n",
    "plt.legend()\n",
    "plt.savefig('distributions.png')"
   ]
  },
  {
   "cell_type": "code",
   "execution_count": null,
   "metadata": {
    "_uuid": "d4b1490fa938064abb4a5e2c4857c34fd156d323",
    "collapsed": true
   },
   "outputs": [],
   "source": []
  }
 ],
 "metadata": {
  "kernelspec": {
   "display_name": "Python 3",
   "language": "python",
   "name": "python3"
  },
  "language_info": {
   "codemirror_mode": {
    "name": "ipython",
    "version": 3
   },
   "file_extension": ".py",
   "mimetype": "text/x-python",
   "name": "python",
   "nbconvert_exporter": "python",
   "pygments_lexer": "ipython3",
   "version": "3.6.3"
  },
  "toc": {
   "base_numbering": 1,
   "nav_menu": {},
   "number_sections": true,
   "sideBar": true,
   "skip_h1_title": false,
   "title_cell": "Table of Contents",
   "title_sidebar": "Contents",
   "toc_cell": false,
   "toc_position": {},
   "toc_section_display": true,
   "toc_window_display": false
  }
 },
 "nbformat": 4,
 "nbformat_minor": 1
}
