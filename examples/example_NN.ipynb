{
 "cells": [
  {
   "cell_type": "code",
   "execution_count": null,
   "metadata": {
    "_cell_guid": "b1076dfc-b9ad-4769-8c92-a6c4dae69d19",
    "_kg_hide-input": true,
    "_kg_hide-output": true,
    "_uuid": "8f2839f25d086af736a60e9eeb907d3b93b6e0e5"
   },
   "outputs": [],
   "source": [
    "from sklearn.metrics import mean_squared_error\n",
    "from sklearn import preprocessing\n",
    "from sklearn.model_selection import train_test_split\n",
    "from keras.models import Sequential\n",
    "from keras.layers import Dense, Dropout, BatchNormalization, Activation, Dropout\n",
    "from keras import optimizers"
   ]
  },
  {
   "cell_type": "markdown",
   "metadata": {
    "_uuid": "b116a23b4e0b27e83a58b42b78aa20dae008ef3b"
   },
   "source": [
    "### One-hot encode categorical data"
   ]
  },
  {
   "cell_type": "code",
   "execution_count": null,
   "metadata": {
    "_uuid": "ea46ffcd3a8a252581b82b34efea67bca1d7c323"
   },
   "outputs": [],
   "source": [
    "categorical_features = ['isMobile', 'month', 'weekday']\n",
    "train = pd.get_dummies(train, columns=categorical_features)\n",
    "test = pd.get_dummies(test, columns=categorical_features)"
   ]
  },
  {
   "cell_type": "code",
   "execution_count": null,
   "metadata": {
    "_uuid": "d3cad54cc1308c8d860dd9a7be62240ecf2e41a6"
   },
   "outputs": [],
   "source": [
    "# align both data sets (by outer join), to make they have the same amount of features,\n",
    "# this is required because of the mismatched categorical values in train and test sets\n",
    "train, test = train.align(test, join='outer', axis=1)\n",
    "\n",
    "# replace the nan values added by align for 0\n",
    "train.replace(to_replace=np.nan, value=0, inplace=True)\n",
    "test.replace(to_replace=np.nan, value=0, inplace=True)"
   ]
  },
  {
   "cell_type": "code",
   "execution_count": null,
   "metadata": {
    "_uuid": "41a6ecec90bfdc51b04d8f7e576123c88bb76c03"
   },
   "outputs": [],
   "source": [
    "# Get labels\n",
    "Y_train = X_train['transactionRevenue'].values\n",
    "Y_val = X_val['transactionRevenue'].values\n",
    "X_train = X_train.drop(['transactionRevenue'], axis=1)\n",
    "X_val = X_val.drop(['transactionRevenue'], axis=1)\n",
    "test = test.drop(['transactionRevenue'], axis=1)\n",
    "# Log transform the labels\n",
    "Y_train = np.log1p(Y_train)\n",
    "Y_val = np.log1p(Y_val)"
   ]
  },
  {
   "cell_type": "code",
   "execution_count": null,
   "metadata": {
    "_uuid": "319489402ef72e89cd3e755c56f4dad5fa66f621"
   },
   "outputs": [],
   "source": [
    "reduce_features = ['city', 'medium', 'channelGrouping', 'region', \n",
    "                   'subContinent', 'country', 'continent', 'deviceCategory', \n",
    "                   'date']\n",
    "X_train = X_train.drop(reduce_features, axis=1)\n",
    "X_val = X_val.drop(reduce_features, axis=1)\n",
    "test = test.drop(reduce_features, axis=1)"
   ]
  },
  {
   "cell_type": "markdown",
   "metadata": {
    "_uuid": "a8ee14b132de2ddad8ed79bf2e1e4ce603e09c48"
   },
   "source": [
    "### Normalize the data"
   ]
  },
  {
   "cell_type": "code",
   "execution_count": null,
   "metadata": {
    "_kg_hide-output": true,
    "_uuid": "fae2367dc4adc4314ca307403b133163e0c9b1ee"
   },
   "outputs": [],
   "source": [
    "normalized_features = ['visitNumber', 'hits', 'pageviews', \n",
    "                       'mean_hits_per_day', 'mean_pageviews_per_day', \n",
    "                       'sum_hits_per_day', 'sum_pageviews_per_day']\n",
    "\n",
    "# Normalize using Min-Max scaling\n",
    "scaler = preprocessing.MinMaxScaler()\n",
    "X_train[normalized_features] = scaler.fit_transform(X_train[normalized_features])\n",
    "X_val[normalized_features] = scaler.transform(X_val[normalized_features])\n",
    "test[normalized_features] = scaler.transform(test[normalized_features])"
   ]
  },
  {
   "cell_type": "code",
   "execution_count": null,
   "metadata": {
    "_kg_hide-input": true,
    "_kg_hide-output": false,
    "_uuid": "2b1bb7a3525f706c1025995e45f75f1585ed7823"
   },
   "outputs": [],
   "source": [
    "X_train.head()"
   ]
  },
  {
   "cell_type": "markdown",
   "metadata": {
    "_uuid": "ba7e8af998f613b559c168c8669e5a732c832d35"
   },
   "source": [
    "### Model\n",
    "* Now let's try some deep learning to model our data."
   ]
  },
  {
   "cell_type": "code",
   "execution_count": null,
   "metadata": {
    "_kg_hide-input": true,
    "_uuid": "6835a447460f64c9e82379046dc9690e94679a01"
   },
   "outputs": [],
   "source": [
    "BATCH_SIZE = 64\n",
    "EPOCHS = 100\n",
    "LEARNING_RATE = 0.0003"
   ]
  },
  {
   "cell_type": "code",
   "execution_count": null,
   "metadata": {
    "_uuid": "f4458c97694da66e9547632accf0a474262e82de"
   },
   "outputs": [],
   "source": [
    "model = Sequential()\n",
    "model.add(Dense(256, kernel_initializer='glorot_normal', activation='relu', input_dim=X_train.shape[1]))\n",
    "model.add(Dense(128, kernel_initializer='glorot_normal', activation='relu'))\n",
    "model.add(Dense(1))"
   ]
  },
  {
   "cell_type": "code",
   "execution_count": null,
   "metadata": {
    "_uuid": "c12612ae50ad5de10ac61abbbc8366feffd62619"
   },
   "outputs": [],
   "source": [
    "adam = optimizers.adam(lr=LEARNING_RATE)\n",
    "model.compile(loss='mse', optimizer=adam)"
   ]
  },
  {
   "cell_type": "code",
   "execution_count": null,
   "metadata": {
    "_kg_hide-input": true,
    "_uuid": "c74906e7da0ddf8c2f4de9d45154d718f64b1f0c"
   },
   "outputs": [],
   "source": [
    "print('Dataset size: %s' % X_train.shape[0])\n",
    "print('Epochs: %s' % EPOCHS)\n",
    "print('Learning rate: %s' % LEARNING_RATE)\n",
    "print('Batch size: %s' % BATCH_SIZE)\n",
    "print('Input dimension: %s' % X_train.shape[1])\n",
    "print('Features used: %s' % X_train.columns.values)"
   ]
  },
  {
   "cell_type": "code",
   "execution_count": null,
   "metadata": {
    "_kg_hide-input": true,
    "_uuid": "fb5a065b3bf83364d4e4384e0055bf3927813033"
   },
   "outputs": [],
   "source": [
    "model.summary()"
   ]
  },
  {
   "cell_type": "code",
   "execution_count": null,
   "metadata": {
    "_kg_hide-output": true,
    "_uuid": "fd8f201b71e6db7c61f22ffae5d182c5462fde7a"
   },
   "outputs": [],
   "source": [
    "history = model.fit(x=X_train.values, y=Y_train, batch_size=BATCH_SIZE, epochs=EPOCHS, \n",
    "                    verbose=1, validation_data=(X_val.values, Y_val))"
   ]
  },
  {
   "cell_type": "markdown",
   "metadata": {
    "_uuid": "0db6c86387fb9d4800601a0590e3123533cf16e7"
   },
   "source": [
    "### Model metrics and plot"
   ]
  },
  {
   "cell_type": "code",
   "execution_count": null,
   "metadata": {
    "_kg_hide-input": true,
    "_uuid": "1116d9301275a10be2f6ae81f29eebed3a12e382"
   },
   "outputs": [],
   "source": [
    "val_predictions = model.predict(X_val)\n",
    "mse = mean_squared_error(val_predictions, Y_val)\n",
    "rmse = np.sqrt(mean_squared_error(val_predictions, Y_val))\n",
    "\n",
    "print('Model validation metrics')\n",
    "print('MSE: %.2f' % mse)\n",
    "print('RMSE: %.2f' % rmse)"
   ]
  },
  {
   "cell_type": "code",
   "execution_count": null,
   "metadata": {
    "_uuid": "5f9a4b6061b48744e59627d62d3364af3c6aacdd"
   },
   "outputs": [],
   "source": [
    "plot_metrics(history.history['loss'], history.history['val_loss'])"
   ]
  },
  {
   "cell_type": "code",
   "execution_count": null,
   "metadata": {
    "_kg_hide-output": true,
    "_uuid": "ac573253c4ab0f3649a62bccbb534e785bc2b151"
   },
   "outputs": [],
   "source": [
    "predictions = model.predict(test)\n",
    "\n",
    "submission = pd.DataFrame({\"fullVisitorId\":test_ids})\n",
    "predictions[predictions<0] = 0\n",
    "submission[\"PredictedLogRevenue\"] = predictions\n",
    "submission = submission.groupby(\"fullVisitorId\")[\"PredictedLogRevenue\"].sum().reset_index()\n",
    "submission.columns = [\"fullVisitorId\", \"PredictedLogRevenue\"]\n",
    "submission[\"PredictedLogRevenue\"] = submission[\"PredictedLogRevenue\"]\n",
    "submission.to_csv(\"submission.csv\", index=False)"
   ]
  },
  {
   "cell_type": "code",
   "execution_count": null,
   "metadata": {
    "_kg_hide-input": true,
    "_uuid": "2a90c17dd9515996604ddd21c90aae0d54d8ef23"
   },
   "outputs": [],
   "source": [
    "submission.head(10)"
   ]
  }
 ],
 "metadata": {
  "kernelspec": {
   "display_name": "Python 3",
   "language": "python",
   "name": "python3"
  },
  "language_info": {
   "codemirror_mode": {
    "name": "ipython",
    "version": 3
   },
   "file_extension": ".py",
   "mimetype": "text/x-python",
   "name": "python",
   "nbconvert_exporter": "python",
   "pygments_lexer": "ipython3",
   "version": "3.7.0"
  },
  "toc": {
   "base_numbering": 1,
   "nav_menu": {},
   "number_sections": true,
   "sideBar": true,
   "skip_h1_title": false,
   "title_cell": "Table of Contents",
   "title_sidebar": "Contents",
   "toc_cell": false,
   "toc_position": {},
   "toc_section_display": true,
   "toc_window_display": false
  }
 },
 "nbformat": 4,
 "nbformat_minor": 1
}
