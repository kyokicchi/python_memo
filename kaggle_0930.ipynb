{
  "cells": [
    {
      "metadata": {
        "_uuid": "ca4229fe862fda4add8565cbec708d611c516b14"
      },
      "cell_type": "markdown",
      "source": "### Ref: Kernels\n\nhttps://www.kaggle.com/julian3833/1-quick-start-read-csv-and-flatten-json-fields\n\nhttps://www.kaggle.com/artgor/nn-baseline\n\nhttps://www.kaggle.com/ogrellier/user-level-lightgbm-lb-1-4480"
    },
    {
      "metadata": {
        "_uuid": "8f2839f25d086af736a60e9eeb907d3b93b6e0e5",
        "_cell_guid": "b1076dfc-b9ad-4769-8c92-a6c4dae69d19",
        "trusted": true
      },
      "cell_type": "code",
      "source": "import os\nimport json\nimport numpy as np\nimport pandas as pd\nfrom pandas.io.json import json_normalize\nfrom sklearn.preprocessing import LabelEncoder",
      "execution_count": null,
      "outputs": []
    },
    {
      "metadata": {
        "_cell_guid": "79c7e3d0-c299-4dcb-8224-4455121ee9b0",
        "_uuid": "d629ff2d2480ee46fbb7e2d37f6b5fab8052498a",
        "trusted": true
      },
      "cell_type": "code",
      "source": "print(os.listdir(\"../input\"))\n",
      "execution_count": null,
      "outputs": []
    },
    {
      "metadata": {
        "trusted": true,
        "_uuid": "4a23799ac3b6e7d5b1eb451ba69ab6d2fa74b585"
      },
      "cell_type": "code",
      "source": "def load_df(csv_path, nrows=None):\n    JSON_COLUMNS = ['device', 'geoNetwork', 'totals', 'trafficSource']\n    \n    df = pd.read_csv(csv_path, \n                     converters={column: json.loads for column in JSON_COLUMNS}, \n                     dtype={'fullVisitorId': 'str'}, \n                     nrows=nrows)\n    \n    for column in JSON_COLUMNS:\n        column_as_df = json_normalize(df[column])\n        column_as_df.columns = [f\"{column}.{subcolumn}\" for subcolumn in column_as_df.columns]\n        df = df.drop(column, axis=1).merge(column_as_df, right_index=True, left_index=True)\n    print(f\"Loaded {os.path.basename(csv_path)}. Shape: {df.shape}\")\n    return df",
      "execution_count": null,
      "outputs": []
    },
    {
      "metadata": {
        "trusted": true,
        "_uuid": "a9f9fce9f30e29128f38851a2023569677d88cf3"
      },
      "cell_type": "code",
      "source": "%%time\ndf_train_raw = load_df('../input/train.csv')",
      "execution_count": null,
      "outputs": []
    },
    {
      "metadata": {
        "trusted": true,
        "_uuid": "7608428d61f7f89a75886136203e81cc28e3ad99"
      },
      "cell_type": "code",
      "source": "%%time\ndf_test_raw = load_df('../input/test.csv')",
      "execution_count": null,
      "outputs": []
    },
    {
      "metadata": {
        "_uuid": "6f6856cc7ba3534d5a5b2e3579e1f82533bc62a8"
      },
      "cell_type": "markdown",
      "source": "###  keep _raw for resuming point"
    },
    {
      "metadata": {
        "trusted": true,
        "_uuid": "9f89c6f20e21768c3d302e232a6339de35cff933"
      },
      "cell_type": "code",
      "source": "%%time\ndf_train = df_train_raw.copy()",
      "execution_count": null,
      "outputs": []
    },
    {
      "metadata": {
        "trusted": true,
        "_uuid": "b7e46ca15cbb10f4691d34fe808935a8097fab49"
      },
      "cell_type": "code",
      "source": "%%time\ndf_test = df_test_raw.copy()",
      "execution_count": null,
      "outputs": []
    },
    {
      "metadata": {
        "_uuid": "630c9e566ecd7d55591dbf5279a48079e960b97b"
      },
      "cell_type": "markdown",
      "source": "### apply adjustments to both train and test datasets"
    },
    {
      "metadata": {
        "trusted": true,
        "scrolled": true,
        "_uuid": "53bcba9f20016db4621328051eddeb50b9b35715"
      },
      "cell_type": "code",
      "source": "def applyEdits(df):\n    # fill NA's\n    df['trafficSource.adwordsClickInfo.isVideoAd'].fillna(True, inplace=True)\n    df['trafficSource.isTrueDirect'].fillna(False, inplace=True)\n\n    l_fillwithzero = ['totals.bounces','totals.newVisits','totals.pageviews',\n    'trafficSource.adContent','trafficSource.keyword','trafficSource.adwordsClickInfo.adNetworkType',\n    'trafficSource.adwordsClickInfo.adNetworkType','trafficSource.adwordsClickInfo.gclId',\n    'trafficSource.adwordsClickInfo.gclId','trafficSource.adwordsClickInfo.page',\n    'trafficSource.adwordsClickInfo.slot']\n    for x in l_fillwithzero:\n        df[x] = df[x].fillna(0)\n\n    # add / edit columns\n    df['browser_category'] = df['device.browser'] + '_' + df['device.deviceCategory']\n    df['browser_operatingSystem'] = df['device.browser'] + '_' + df['device.operatingSystem']\n    df['source_country'] = df['trafficSource.source'] + '_' + df['geoNetwork.country']                                                                   \n\n    \n    df['dummy'] = 1\n    df['user_cumcnt_per_day'] = (df[['fullVisitorId','date', 'dummy']].groupby(['fullVisitorId','date'])['dummy'].cumcount()+1)\n    df['user_sum_per_day'] = df[['fullVisitorId','date', 'dummy']].groupby(['fullVisitorId','date'])['dummy'].transform(sum)\n    df['user_cumcnt_sum_ratio_per_day'] = df['user_cumcnt_per_day'] / df['user_sum_per_day'] \n    df.drop('dummy', axis=1, inplace=True)\n\n    return df",
      "execution_count": null,
      "outputs": []
    },
    {
      "metadata": {
        "trusted": true,
        "_uuid": "ad1f38ff60765f4891de78efa0d02b3f12242922"
      },
      "cell_type": "code",
      "source": "%%time\ndf_train = applyEdits(df_train)",
      "execution_count": null,
      "outputs": []
    },
    {
      "metadata": {
        "trusted": true,
        "_uuid": "31fd2f16d0372731a73af3498f3b2917fc850905"
      },
      "cell_type": "code",
      "source": "%%time\ndf_test = applyEdits(df_test)",
      "execution_count": null,
      "outputs": []
    },
    {
      "metadata": {
        "_uuid": "073dad5a0d127383ed96406b2b2a6de70cd10272"
      },
      "cell_type": "markdown",
      "source": "### apply only for train dataset"
    },
    {
      "metadata": {
        "trusted": true,
        "_uuid": "337145bd03ef1d0bcfadb9ec4b5dbc54b4202b34"
      },
      "cell_type": "code",
      "source": "# to float and log\ndf_train['totals.transactionRevenue'] = df_train['totals.transactionRevenue'].astype(float)\ndf_train['totals.transactionRevenue'] = np.log1p(df_train['totals.transactionRevenue'].fillna(0))",
      "execution_count": null,
      "outputs": []
    },
    {
      "metadata": {
        "_uuid": "d4da91392ec96a69d73e7ae28609e340cd4f789a"
      },
      "cell_type": "markdown",
      "source": "### delete columns with no valid info"
    },
    {
      "metadata": {
        "trusted": true,
        "_uuid": "1516939f84f16334f6079c27d24859f55ab533f8",
        "scrolled": true
      },
      "cell_type": "code",
      "source": "%%time\ncols_to_drop = [col for col in df_train.columns if df_train[col].nunique() == 1]\ndf_train.drop(cols_to_drop, axis=1, inplace=True)\ndf_test.drop([col for col in cols_to_drop if col in df_test.columns], axis=1, inplace=True)\n",
      "execution_count": null,
      "outputs": []
    },
    {
      "metadata": {
        "_uuid": "cb8c8e6794f0ad696f5a2b11631cab28ab83f331"
      },
      "cell_type": "markdown",
      "source": "### clean up date column"
    },
    {
      "metadata": {
        "trusted": true,
        "_uuid": "6580c7d72d28c2ce176211f1499c58e24ece78f1"
      },
      "cell_type": "code",
      "source": "def cleanDate(df):\n    df['date'] = pd.to_datetime(df['date'].apply(lambda x: str(x)[:4] + '-' + str(x)[4:6] + '-' + str(x)[6:]))\n    return df\n\n\ndf_train = cleanDate(df_train)\ndf_test = cleanDate(df_test)",
      "execution_count": null,
      "outputs": []
    },
    {
      "metadata": {
        "trusted": true,
        "_uuid": "53d2e3871bcf481148ef9e9b7617134acf0d0bc5",
        "scrolled": true
      },
      "cell_type": "code",
      "source": "%%time\n\ndef parseDates(df):\n    df['date'] = pd.to_datetime(df['date'])\n    df['month'] = df['date'].dt.month\n    df['day'] = df['date'].dt.day\n    df['weekday'] = df['date'].dt.weekday\n    df['weekofyear'] = df['date'].dt.weekofyear\n    \n    return df\n\n\ndf_train = parseDates(df_train)\ndf_test = parseDates(df_test)\n",
      "execution_count": null,
      "outputs": []
    },
    {
      "metadata": {
        "trusted": true,
        "scrolled": true,
        "_uuid": "6cfabd4cc7cf70d27b41e4a7489e5f63e066afdc"
      },
      "cell_type": "code",
      "source": "%%time\ndef strToNum(df):\n    l = [ 'totals.bounces', 'totals.hits', 'totals.newVisits', 'totals.pageviews',]\n    for x in l:\n        df[x] = df[x].values.astype(np.int64)\n    return df\n\ndf_train = strToNum(df_train)\ndf_test = strToNum(df_test)",
      "execution_count": null,
      "outputs": []
    },
    {
      "metadata": {
        "trusted": true,
        "_uuid": "ae3e561aa4b02f0c0f5585ecbf7e39d163605930"
      },
      "cell_type": "code",
      "source": "no_use = ['date', 'fullVisitorId', 'sessionId', 'visitId', 'visitStartTime', 'totals.transactionRevenue', 'trafficSource.referralPath']\n\ncat_cols = [x for x in df_train.columns if x not in no_use and type(df_train[x][0]) == str]\n\nnum_cols = [x for x in df_train.columns if x not in no_use and x not in cat_cols and type(df_train[x][0]) != str and type(df_train[x][0]) != bool]\n",
      "execution_count": null,
      "outputs": []
    },
    {
      "metadata": {
        "_uuid": "bdbd6c3e8a8df46b78226fcff9da11d96a674cee"
      },
      "cell_type": "markdown",
      "source": "### Encode category strings to number labels ** use same number for same category accross train & test datasets"
    },
    {
      "metadata": {
        "trusted": true,
        "_uuid": "d6cd5e1e18c145710c592cb5f8b6c22f34fe2b5f"
      },
      "cell_type": "code",
      "source": "%%time\nmax_values = {}\nfor col in cat_cols:\n    lbl = LabelEncoder()\n    lbl.fit(list(df_train[col].values.astype('str')) + list(df_test[col].values.astype('str')))\n    df_train[col] = lbl.transform(list(df_train[col].values.astype('str')))\n    df_test[col] = lbl.transform(list(df_test[col].values.astype('str')))\n    max_values[col] = max(df_train[col].max(), df_test[col].max())  + 2\n",
      "execution_count": null,
      "outputs": []
    },
    {
      "metadata": {
        "trusted": true,
        "_uuid": "13ca8e09f32d5e051a5406ac852079148e896635"
      },
      "cell_type": "code",
      "source": "%%time\ndef boolToNum(df):\n    l = ['trafficSource.adwordsClickInfo.isVideoAd', 'trafficSource.isTrueDirect' ]\n    for x in l:\n        df[x] = df[x].values.astype(np.int64) * 1\n    return df\ndf_train = boolToNum(df_train)\ndf_test = boolToNum(df_test)",
      "execution_count": 77,
      "outputs": [
        {
          "output_type": "stream",
          "text": "CPU times: user 20 ms, sys: 0 ns, total: 20 ms\nWall time: 82.4 ms\n",
          "name": "stdout"
        }
      ]
    },
    {
      "metadata": {
        "trusted": true,
        "_uuid": "0305f0074352d417949ca43f24a515e1f9e96689"
      },
      "cell_type": "code",
      "source": "df_train.drop('trafficSource.referralPath', axis=1, inplace=True)\ndf_test.drop('trafficSource.referralPath', axis=1, inplace=True)\n",
      "execution_count": 81,
      "outputs": []
    },
    {
      "metadata": {
        "_uuid": "3a9a5f3f1450f7ba4533958145c5d3ec4352167a"
      },
      "cell_type": "markdown",
      "source": "## -------------------------------------------------------------for reseting ---------------------------------------------------------------"
    },
    {
      "metadata": {
        "trusted": true,
        "_uuid": "17c522deb0407c9fd89ae50f6e009cf86cfaea9e"
      },
      "cell_type": "code",
      "source": "%%time\n#export\ndf_train.to_csv('train_wip.csv')\ndf_test.to_csv('test_wip.csv')\n\n#save\n#df_train_forReset = df_train.copy()\n#df_test_forReset = df_test.copy()\n\n#load\n#df_train = df_train_forReset.copy()\n#df_test = df_test_forReset.copy()\n",
      "execution_count": 83,
      "outputs": [
        {
          "output_type": "stream",
          "text": "CPU times: user 1min 11s, sys: 708 ms, total: 1min 11s\nWall time: 1min 11s\n",
          "name": "stdout"
        }
      ]
    },
    {
      "metadata": {
        "trusted": true,
        "_uuid": "e9f9ddbd777446eabff7364859c1782aeb43737c"
      },
      "cell_type": "code",
      "source": "\ndef aggregate_by_users(df, cat_cols):\n    aggs = {\n        'date': ['min', 'max'],\n        'totals.transactionRevenue': ['sum', 'size'],\n        'totals.hits': ['sum', 'min', 'max', 'mean', 'median'],\n        'totals.pageviews': ['sum', 'min', 'max', 'mean', 'median'],\n        'totals.bounces': ['sum', 'mean', 'median'],\n        'totals.newVisits': ['sum', 'mean', 'median']\n    }\n\n    for f in cat_cols + ['weekday', 'day', 'month', 'weekofyear']:\n        aggs[f] = ['min', 'max', 'mean', 'median', 'var', 'std']\n\n    users = df.groupby('fullVisitorId').agg(aggs)\n\n    new_columns = [\n        k + '_' + agg for k in aggs.keys() for agg in aggs[k]\n    ]\n    users.columns = new_columns\n\n    users['date_diff'] = (users.date_max - users.date_min).astype(np.int64) // (24 * 3600 * 1e9)\n    \n    return users",
      "execution_count": 84,
      "outputs": []
    },
    {
      "metadata": {
        "trusted": true,
        "scrolled": false,
        "_uuid": "02cd97d01427fd0b675ec504e14328b0007eac6a"
      },
      "cell_type": "code",
      "source": "%%time\ndf_user_train = aggregate_by_users(df_train, cat_cols)\n\ndf_test['totals.transactionRevenue'] = 0\ndf_user_test = aggregate_by_users(df_test, cat_cols)\n\n",
      "execution_count": 93,
      "outputs": [
        {
          "output_type": "stream",
          "text": "CPU times: user 16 s, sys: 1.98 s, total: 17.9 s\nWall time: 18.2 s\n",
          "name": "stdout"
        }
      ]
    },
    {
      "metadata": {
        "_uuid": "b600ab521a1d3a3d2c5da223d4b971e296214964"
      },
      "cell_type": "markdown",
      "source": "## save aggregated csv"
    },
    {
      "metadata": {
        "trusted": true,
        "scrolled": true,
        "_uuid": "f6c223de3db355f02a9d27a80199dba7952ce7fe"
      },
      "cell_type": "code",
      "source": "%%time\n#export\ndf_user_train.to_csv('user_train_wip.csv')\ndf_user_test.to_csv('user_test_wip.csv')",
      "execution_count": 95,
      "outputs": [
        {
          "output_type": "stream",
          "text": "CPU times: user 3min, sys: 1.3 s, total: 3min 1s\nWall time: 3min 1s\n",
          "name": "stdout"
        }
      ]
    },
    {
      "metadata": {
        "_uuid": "0f67b482db923fdce397a6c150b05496eff7f0f5"
      },
      "cell_type": "markdown",
      "source": "# ------------------------ work in progress --------------------"
    },
    {
      "metadata": {
        "_uuid": "c1d79a9a784c63d23b72ac58c7b7478cad3267c1"
      },
      "cell_type": "markdown",
      "source": "## model"
    },
    {
      "metadata": {
        "trusted": true,
        "_uuid": "bb1727974a29a6ca748fdf1f0f5b9937d6b6ba55"
      },
      "cell_type": "code",
      "source": "%%time\n\nfrom sklearn.model_selection import train_test_split\n\ndf_y = df_user_train['totals.transactionRevenue_sum']\ndf_x = df_user_train.drop(['date_min', 'date_max', 'totals.transactionRevenue_sum'], axis=1)\n\nx_train, x_test, y_train, y_test = train_test_split(df_x, df_y, test_size=0.25)\n\n",
      "execution_count": 1,
      "outputs": [
        {
          "output_type": "error",
          "ename": "NameError",
          "evalue": "name 'df_user_train' is not defined",
          "traceback": [
            "\u001b[0;31m---------------------------------------------------------------------------\u001b[0m",
            "\u001b[0;31mNameError\u001b[0m                                 Traceback (most recent call last)",
            "\u001b[0;32m<timed exec>\u001b[0m in \u001b[0;36m<module>\u001b[0;34m()\u001b[0m\n",
            "\u001b[0;31mNameError\u001b[0m: name 'df_user_train' is not defined"
          ]
        }
      ]
    },
    {
      "metadata": {
        "trusted": true,
        "_uuid": "c9bbcf3033c47309a2fa0b614d1b9ee8c043b039"
      },
      "cell_type": "code",
      "source": "lgb_params = {\n    'learning_rate': 0.03,\n    'n_estimators': 2000,\n    'num_leaves': 128,\n    'subsample': 0.2217,\n    'colsample_bytree': 0.6810,\n    'min_split_gain': np.power(10.0, -4.9380),\n    'reg_alpha': np.power(10.0, -3.2454),\n    'reg_lambda': np.power(10.0, -4.8571),\n    'min_child_weight': np.power(10.0, 2),\n    'silent': True\n}\n\nfor fold_, (trn_, val_) in enumerate(folds.split(trn_users)):\n    model = lgb.LGBMRegressor(**lgb_params)\n\n    model.fit(\n        trn_users.iloc[trn_], trn_y.iloc[trn_],\n        eval_set=[(trn_users.iloc[trn_], trn_y.iloc[trn_]),\n                  (trn_users.iloc[val_], trn_y.iloc[val_])],\n        eval_metric='rmse',\n        early_stopping_rounds=100,\n        verbose=0\n    )\n\n    oof_preds[val_] = model.predict(trn_users.iloc[val_])\n    curr_sub_preds = model.predict(sub_users)\n    curr_sub_preds[curr_sub_preds < 0] = 0\n    sub_preds += curr_sub_preds / folds.n_splits\n    #     preds[preds <0] = 0\n\n    logger.info('Fold %d RMSE (raw output) : %.5f' % (fold_ + 1, rmse(trn_y.iloc[val_], oof_preds[val_])))\n    oof_preds[oof_preds < 0] = 0\n    oof_scores.append(rmse(trn_y.iloc[val_], oof_preds[val_]))\n    logger.info('Fold %d RMSE : %.5f' % (fold_ + 1, oof_scores[-1]))\n\nlogger.info('Full OOF RMSE (zero clipped): %.5f +/- %.5f' % (rmse(trn_y, oof_preds), float(np.std(oof_scores))))\n\n# Stay in logs for submission\nsub_users['PredictedLogRevenue'] = sub_preds\nsub_users[['PredictedLogRevenue']].to_csv(\"simple_lgb.csv\", index=True)\n\nlogger.info('Submission data shape : {}'.format(sub_users[['PredictedLogRevenue']].shape))\n\nhist, bin_edges = np.histogram(np.hstack((oof_preds, sub_preds)), bins=25)\nplt.figure(figsize=(12, 7))\nplt.title('Distributions of OOF and TEST predictions', fontsize=15, fontweight='bold')\nplt.hist(oof_preds, label='OOF predictions', alpha=.6, bins=bin_edges, density=True, log=True)\nplt.hist(sub_preds, label='TEST predictions', alpha=.6, bins=bin_edges, density=True, log=True)\nplt.legend()\nplt.savefig('distributions.png')\n",
      "execution_count": null,
      "outputs": []
    },
    {
      "metadata": {
        "trusted": true,
        "_uuid": "d4b1490fa938064abb4a5e2c4857c34fd156d323"
      },
      "cell_type": "code",
      "source": "",
      "execution_count": null,
      "outputs": []
    }
  ],
  "metadata": {
    "kernelspec": {
      "display_name": "Python 3",
      "language": "python",
      "name": "python3"
    },
    "language_info": {
      "name": "python",
      "version": "3.6.6",
      "mimetype": "text/x-python",
      "codemirror_mode": {
        "name": "ipython",
        "version": 3
      },
      "pygments_lexer": "ipython3",
      "nbconvert_exporter": "python",
      "file_extension": ".py"
    }
  },
  "nbformat": 4,
  "nbformat_minor": 1
}